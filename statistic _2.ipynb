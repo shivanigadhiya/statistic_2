{
 "cells": [
  {
   "cell_type": "markdown",
   "id": "2e4274de-f187-479d-969d-1bd5eb6055f8",
   "metadata": {},
   "source": [
    "Q1. What are the three measures of central tendency?"
   ]
  },
  {
   "cell_type": "markdown",
   "id": "5899838b-250b-4990-b1ac-9d5aa520ccc2",
   "metadata": {},
   "source": [
    "There are three measures of central tendency : Mean,Meadian,Mode"
   ]
  },
  {
   "cell_type": "markdown",
   "id": "44564631-0973-4d36-87ee-c6071039430f",
   "metadata": {},
   "source": [
    "Q2. What is the difference between the mean, median, and mode? How are they used to measure the\n",
    "central tendency of a dataset?"
   ]
  },
  {
   "cell_type": "markdown",
   "id": "ab8fbe90-c36a-4e31-aa8f-4519b37e7c15",
   "metadata": {},
   "source": [
    "Mean is the average value of the given observations. Median is the middle value of the given observations. Mode is the most repeated value in the given observation."
   ]
  },
  {
   "cell_type": "markdown",
   "id": "2bdfce43-5865-4247-98b3-08941d34a702",
   "metadata": {},
   "source": [
    "The central tendency measure is defined as the number used to represent the center or middle of a set of data values. The three commonly used measures of central tendency are the mean, median, and mode. A statistic that tells us how the data values are dispersed or spread out is called the measure of dispersion."
   ]
  },
  {
   "cell_type": "markdown",
   "id": "903f7c39-12d3-4c72-a425-e0b8259d4427",
   "metadata": {},
   "source": [
    "Q3. Measure the three measures of central tendency for the given height data:\n",
    "\n",
    " [178,177,176,177,178.2,178,175,179,180,175,178.9,176.2,177,172.5,178,176.5]"
   ]
  },
  {
   "cell_type": "code",
   "execution_count": 1,
   "id": "155dd4bc-03af-47b0-bd59-e215d1958e60",
   "metadata": {},
   "outputs": [],
   "source": [
    "import numpy as np"
   ]
  },
  {
   "cell_type": "code",
   "execution_count": 2,
   "id": "3cc965a2-5c76-40d2-b3ec-7bc12d99d1ad",
   "metadata": {},
   "outputs": [],
   "source": [
    "data1 = [178,177,176,177,178.2,178,175,179,180,175,178.9,176.2,177,172.5,178,176.5]"
   ]
  },
  {
   "cell_type": "code",
   "execution_count": 3,
   "id": "54b1719e-ddcb-47d3-b442-492a4ced8837",
   "metadata": {},
   "outputs": [
    {
     "data": {
      "text/plain": [
       "177.01875"
      ]
     },
     "execution_count": 3,
     "metadata": {},
     "output_type": "execute_result"
    }
   ],
   "source": [
    "np.mean(data1)"
   ]
  },
  {
   "cell_type": "code",
   "execution_count": 5,
   "id": "d964ca90-53f0-4d07-a45d-6683b4db96a1",
   "metadata": {},
   "outputs": [
    {
     "data": {
      "text/plain": [
       "177.0"
      ]
     },
     "execution_count": 5,
     "metadata": {},
     "output_type": "execute_result"
    }
   ],
   "source": [
    "np.median(data1)"
   ]
  },
  {
   "cell_type": "code",
   "execution_count": 7,
   "id": "2fceea2a-3f38-4f62-b3dc-91f600915d4e",
   "metadata": {},
   "outputs": [],
   "source": [
    "from scipy import stats"
   ]
  },
  {
   "cell_type": "code",
   "execution_count": 8,
   "id": "80d7ecb2-5855-4b12-a5bb-0dd2f0a582c8",
   "metadata": {},
   "outputs": [
    {
     "name": "stderr",
     "output_type": "stream",
     "text": [
      "/tmp/ipykernel_85/760597495.py:1: FutureWarning: Unlike other reduction functions (e.g. `skew`, `kurtosis`), the default behavior of `mode` typically preserves the axis it acts along. In SciPy 1.11.0, this behavior will change: the default value of `keepdims` will become False, the `axis` over which the statistic is taken will be eliminated, and the value None will no longer be accepted. Set `keepdims` to True or False to avoid this warning.\n",
      "  stats.mode(data1)\n"
     ]
    },
    {
     "data": {
      "text/plain": [
       "ModeResult(mode=array([177.]), count=array([3]))"
      ]
     },
     "execution_count": 8,
     "metadata": {},
     "output_type": "execute_result"
    }
   ],
   "source": [
    "stats.mode(data1)"
   ]
  },
  {
   "cell_type": "markdown",
   "id": "c6fc97ea-32a1-4aac-a1b1-9132bfaca0fc",
   "metadata": {},
   "source": [
    "Q4. Find the standard deviation for the given data:\n",
    "\n",
    "[178,177,176,177,178.2,178,175,179,180,175,178.9,176.2,177,172.5,178,176.5]"
   ]
  },
  {
   "cell_type": "code",
   "execution_count": 9,
   "id": "4d5b456d-c80b-4df5-916c-12bca7d82ec7",
   "metadata": {},
   "outputs": [],
   "source": [
    "data1 = [178,177,176,177,178.2,178,175,179,180,175,178.9,176.2,177,172.5,178,176.5]"
   ]
  },
  {
   "cell_type": "code",
   "execution_count": 10,
   "id": "77fb7aa5-1ada-4095-b15c-3b54a75e1652",
   "metadata": {},
   "outputs": [
    {
     "data": {
      "text/plain": [
       "1.7885814036548633"
      ]
     },
     "execution_count": 10,
     "metadata": {},
     "output_type": "execute_result"
    }
   ],
   "source": [
    "np.std(data1)"
   ]
  },
  {
   "cell_type": "markdown",
   "id": "9c62676f-4c13-4278-a01e-1699f7e57ef9",
   "metadata": {},
   "source": [
    "Q5. How are measures of dispersion such as range, variance, and standard deviation used to describe\n",
    "the spread of a dataset? Provide an example."
   ]
  },
  {
   "cell_type": "markdown",
   "id": "067d9c51-8df5-4ced-946b-dd8a475dd2ae",
   "metadata": {},
   "source": [
    "Measures of dispersion, including range, variance, and standard deviation, are used to quantify and describe the spread or variability within a dataset. They provide valuable information about how data points are distributed around the central tendency (mean, median, or mode) and how much they deviate from each other. "
   ]
  },
  {
   "cell_type": "markdown",
   "id": "c5577d9c-cf6a-4036-bc52-d8be49248f9d",
   "metadata": {},
   "source": [
    "Range:\n",
    "Example: Consider the following dataset of test scores (out of 100) for a group of students: {55, 60, 65, 75, 90}.\n",
    "\n",
    "Range = Max score (90) - Min score (55) = 35\n",
    "The range of this dataset is 35, indicating that the scores range from 55 to 90."
   ]
  },
  {
   "cell_type": "markdown",
   "id": "837ae53e-1b44-4250-a630-15e76ed1487d",
   "metadata": {},
   "source": [
    "Variance: \n",
    "Example: Continuing with the test scores dataset:\n",
    "\n",
    "Calculate the mean (average): (55 + 60 + 65 + 75 + 90) / 5 = 69.\n",
    "Variance = [((55-69)^2 + (60-69)^2 + (65-69)^2 + (75-69)^2 + (90-69)^2) / 5] ≈ 212.8\n",
    "The variance is approximately 212.8, showing how the scores deviate from the mean on average."
   ]
  },
  {
   "cell_type": "markdown",
   "id": "8eacbfdc-4e9c-4dc2-8960-fa3dc03bb5f8",
   "metadata": {},
   "source": [
    "Standard Deviation:\n",
    "Example: Continuing with the test scores dataset:\n",
    "\n",
    "Standard Deviation ≈ √(Variance) ≈ √(212.8) ≈ 14.6 (approximately)\n",
    "The standard deviation is approximately 14.6, indicating the typical amount of variation or spread in the test scores."
   ]
  },
  {
   "cell_type": "markdown",
   "id": "11f56d81-9090-4a0f-ad93-58fe431bfbba",
   "metadata": {},
   "source": [
    "Q6. What is a Venn diagram?"
   ]
  },
  {
   "cell_type": "markdown",
   "id": "a404f5fe-7561-45cd-8838-8ae8cab2601d",
   "metadata": {},
   "source": [
    "A Venn diagram is an illustration that uses circles to show the relationships among things or finite groups of things."
   ]
  },
  {
   "cell_type": "markdown",
   "id": "aeab66a1-3ac4-4139-948c-9dc1ec03d406",
   "metadata": {},
   "source": [
    "Q7. For the two given sets A = (2,3,4,5,6,7) & B = (0,2,6,8,10). Find:\n",
    "\n",
    "(i) \tA B\n",
    "\n",
    "(ii)\tA ⋃ B"
   ]
  },
  {
   "cell_type": "code",
   "execution_count": 20,
   "id": "67687c22-6d67-410d-8891-cf34853fbc1e",
   "metadata": {},
   "outputs": [
    {
     "name": "stdout",
     "output_type": "stream",
     "text": [
      "Intersection of A and B: {2, 6}\n",
      "Union of A and B: {0, 2, 3, 4, 5, 6, 7, 8, 10}\n"
     ]
    }
   ],
   "source": [
    "# Define the sets A and B\n",
    "A = {2, 3, 4, 5, 6, 7}\n",
    "B = {0, 2, 6, 8, 10}\n",
    "\n",
    "# Find the intersection of A and B\n",
    "intersection = A.intersection(B)\n",
    "\n",
    "# Find the union of A and B\n",
    "union = A.union(B)\n",
    "\n",
    "# Print the results\n",
    "print(\"Intersection of A and B:\", intersection)\n",
    "print(\"Union of A and B:\", union)\n"
   ]
  },
  {
   "cell_type": "markdown",
   "id": "e14059a0-ea51-4868-b7b7-5684eab24ef8",
   "metadata": {},
   "source": [
    "Q8. What do you understand about skewness in data?"
   ]
  },
  {
   "cell_type": "markdown",
   "id": "982f3ef2-85a6-4e8f-baf3-28d71a298117",
   "metadata": {},
   "source": [
    "Skewness is a measure of the asymmetry of a distribution. A distribution is asymmetrical when its left and right side are not mirror images. "
   ]
  },
  {
   "cell_type": "markdown",
   "id": "a12fd599-9e5c-4765-8fa0-0431030744f3",
   "metadata": {},
   "source": [
    "Q9. If a data is right skewed then what will be the position of median with respect to mean?"
   ]
  },
  {
   "cell_type": "markdown",
   "id": "136c86a1-918c-4447-99fe-ca2baacf9e65",
   "metadata": {},
   "source": [
    "Median is left side to mean. mean>=median"
   ]
  },
  {
   "cell_type": "markdown",
   "id": "61d8f48c-7efd-46f7-99a0-4b58a271c394",
   "metadata": {},
   "source": [
    "Q10. Explain the difference between covariance and correlation. How are these measures used in\n",
    "statistical analysis?\n",
    "\n"
   ]
  },
  {
   "cell_type": "markdown",
   "id": "51bfc059-6e53-4ea4-97ba-ffe925bd30b6",
   "metadata": {},
   "source": [
    "Covariance is an indicator of how two random variables change concerning each other. Correlation, on the other hand, measures the strength of this relationship"
   ]
  },
  {
   "cell_type": "markdown",
   "id": "19cda739-b2a8-494c-9f14-96163aac3208",
   "metadata": {},
   "source": [
    "Covariance measures the degree to which two variables change together. It quantifies the extent to which deviations from the mean of one variable correspond to deviations from the mean of the other variable.\n",
    "It can be positive, negative, or zero:"
   ]
  },
  {
   "cell_type": "markdown",
   "id": "b2099d5c-b17e-493d-a15a-20d9233b6c5d",
   "metadata": {},
   "source": [
    "Correlation measures the strength and direction of the linear relationship between two variables. It provides a standardized measure that ranges from -1 to 1, where:\n",
    "A correlation of 1 (or -1) indicates a perfect positive (or negative) linear relationship.\n",
    "A correlation of 0 indicates no linear relationship"
   ]
  },
  {
   "cell_type": "markdown",
   "id": "c7ddf0c4-0f05-4085-b751-647615945b78",
   "metadata": {},
   "source": [
    "Q11. What is the formula for calculating the sample mean? Provide an example calculation for a\n",
    "dataset."
   ]
  },
  {
   "cell_type": "markdown",
   "id": "6a9a8a81-0d4c-47ca-bdd5-2a9b240257b8",
   "metadata": {},
   "source": [
    "x(bar) = sigma i=1 to n xi/n"
   ]
  },
  {
   "cell_type": "markdown",
   "id": "7f1b8c66-e282-4fa0-af1a-3dc8b0fb30aa",
   "metadata": {},
   "source": [
    "Suppose you have the following dataset of exam scores for a group of students:\n",
    "{85,90,78,92,88}"
   ]
  },
  {
   "cell_type": "markdown",
   "id": "8ccadd01-e941-4520-ae02-b91b48904d19",
   "metadata": {},
   "source": [
    "Add up all the values in the dataset:\n",
    "85+90+78+92+88=433"
   ]
  },
  {
   "cell_type": "markdown",
   "id": "d8f8279d-f527-4c81-8ef4-87bbaa2bae76",
   "metadata": {},
   "source": [
    "Determine the number of values in the dataset (n):\n",
    "In this case, there are 5 values."
   ]
  },
  {
   "cell_type": "markdown",
   "id": "0f122a58-94a2-4d8b-ae8d-01da7c431d10",
   "metadata": {},
   "source": [
    "Use the formula to calculate the sample mean is 86.6"
   ]
  },
  {
   "cell_type": "markdown",
   "id": "6f7a314c-1b16-4fae-a5d0-bfc6bdc9ccf6",
   "metadata": {},
   "source": [
    "Q12. For a normal distribution data what is the relationship between its measure of central tendency?"
   ]
  },
  {
   "cell_type": "markdown",
   "id": "609f09b1-6483-4ad3-983f-fb8c92545133",
   "metadata": {},
   "source": [
    "In normal distribution there is no skewness. Mean, Median, Mode all are the prefectly at the center."
   ]
  },
  {
   "cell_type": "markdown",
   "id": "8c95124b-eeb2-4747-963e-9d6df3dc4974",
   "metadata": {},
   "source": [
    "Q13. How is covariance different from correlation?"
   ]
  },
  {
   "cell_type": "markdown",
   "id": "ed68efd6-04f0-46af-903d-e5642654896c",
   "metadata": {},
   "source": [
    "covariance : It shows how two variables differ from each other."
   ]
  },
  {
   "cell_type": "markdown",
   "id": "72b362a8-ea98-4c77-897b-26b8f96d24ea",
   "metadata": {},
   "source": [
    "correlation : It shows how two variables are related to each other."
   ]
  },
  {
   "cell_type": "markdown",
   "id": "4e2cbe28-7a44-4b2b-a7eb-e56e9d41b495",
   "metadata": {},
   "source": [
    "Q14. How do outliers affect measures of central tendency and dispersion? Provide an example."
   ]
  },
  {
   "cell_type": "markdown",
   "id": "175a3c1d-36cf-46aa-ad70-0c21ff2b7ea8",
   "metadata": {},
   "source": [
    "Consider a dataset of salaries in a small company:\n",
    "\n",
    "{40,000, 42,000, 43,000, 45,000, 1,000,000}\n",
    "\n",
    "Mean: The mean salary is influenced heavily by the outlier (1,000,000), making it much higher than what most employees earn.\n",
    "Median: The median salary (43,000) is less affected by the outlier and represents a more typical salary.\n",
    "Range: The range is greatly impacted by the outlier, as it becomes 999,000.\n",
    "Variance and Standard Deviation: Both of these measures will be substantially larger due to the presence of the outlier."
   ]
  },
  {
   "cell_type": "code",
   "execution_count": null,
   "id": "62afaa40-9e40-4e6d-b0c9-8142c4aa7615",
   "metadata": {},
   "outputs": [],
   "source": []
  }
 ],
 "metadata": {
  "kernelspec": {
   "display_name": "Python 3 (ipykernel)",
   "language": "python",
   "name": "python3"
  },
  "language_info": {
   "codemirror_mode": {
    "name": "ipython",
    "version": 3
   },
   "file_extension": ".py",
   "mimetype": "text/x-python",
   "name": "python",
   "nbconvert_exporter": "python",
   "pygments_lexer": "ipython3",
   "version": "3.10.8"
  }
 },
 "nbformat": 4,
 "nbformat_minor": 5
}
